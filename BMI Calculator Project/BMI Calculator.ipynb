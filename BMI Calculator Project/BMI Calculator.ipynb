{
 "cells": [
  {
   "cell_type": "markdown",
   "id": "560ce38c",
   "metadata": {},
   "source": [
    "# BMI Calculator"
   ]
  },
  {
   "cell_type": "markdown",
   "id": "d704a433",
   "metadata": {},
   "source": [
    "https://mercer-health.com/services/weight-management-center/bmi-calculator#:~:text=Body%20Mass%20Index%2C%20or%20BMI,inches%20x%20height%20in%20inches"
   ]
  },
  {
   "cell_type": "code",
   "execution_count": 1,
   "id": "c01461fb",
   "metadata": {},
   "outputs": [
    {
     "name": "stdout",
     "output_type": "stream",
     "text": [
      "Enter you name: Sachin kumar\n",
      "Enter your weight in pounds: 188\n",
      "Enter your height in inches: 66\n",
      "30.340679522497705\n",
      "Sachin kumar, you are obese.\n"
     ]
    }
   ],
   "source": [
    "name = input(\"Enter you name: \")\n",
    "\n",
    "weight = int(input(\"Enter your weight in pounds: \"))\n",
    "\n",
    "height = int(input(\"Enter your height in inches: \"))\n",
    "\n",
    "BMI = (weight * 703) / (height * height)\n",
    "\n",
    "print(BMI)\n",
    "\n",
    "if BMI>0:\n",
    "    if(BMI<18.5):\n",
    "        print(name +\", you are underwight.\")\n",
    "    elif (BMI<=24.9):\n",
    "        print(name +\", you are normal weight.\")\n",
    "    elif (BMI<29.9):\n",
    "        print(name +\", you are overweight. You need to exercise more and stop sitting and doing so many python projects.\")\n",
    "    elif (BMI<34.9):\n",
    "        print(name +\", you are obese.\")\n",
    "    elif (BMI<39.9):\n",
    "        print(name +\", you are severely obese.\")\n",
    "    else:\n",
    "        print(name +\", you are morbidly obese.\")\n",
    "else:\n",
    "    print(\"Enter valid input\")"
   ]
  },
  {
   "cell_type": "code",
   "execution_count": 2,
   "id": "8e32d529",
   "metadata": {},
   "outputs": [],
   "source": [
    "#BMI = (weight in pounds x 703) / (height in inches x height in inches)"
   ]
  },
  {
   "cell_type": "code",
   "execution_count": 3,
   "id": "96b66c73",
   "metadata": {},
   "outputs": [
    {
     "name": "stdout",
     "output_type": "stream",
     "text": [
      "188\n"
     ]
    }
   ],
   "source": [
    "print(weight)"
   ]
  },
  {
   "cell_type": "markdown",
   "id": "a0b008ad",
   "metadata": {},
   "source": [
    "Under 18.5\tUnderweight\tMinimal\n",
    "18.5 - 24.9\tNormal Weight\tMinimal\n",
    "25 - 29.9\tOverweight\tIncreased\n",
    "30 - 34.9\tObese\tHigh\n",
    "35 - 39.9\tSeverely Obese\tVery High\n",
    "40 and over\tMorbidly Obese\tExtremely High"
   ]
  },
  {
   "cell_type": "code",
   "execution_count": null,
   "id": "39e80518",
   "metadata": {},
   "outputs": [],
   "source": []
  }
 ],
 "metadata": {
  "kernelspec": {
   "display_name": "Python 3 (ipykernel)",
   "language": "python",
   "name": "python3"
  },
  "language_info": {
   "codemirror_mode": {
    "name": "ipython",
    "version": 3
   },
   "file_extension": ".py",
   "mimetype": "text/x-python",
   "name": "python",
   "nbconvert_exporter": "python",
   "pygments_lexer": "ipython3",
   "version": "3.9.13"
  }
 },
 "nbformat": 4,
 "nbformat_minor": 5
}
