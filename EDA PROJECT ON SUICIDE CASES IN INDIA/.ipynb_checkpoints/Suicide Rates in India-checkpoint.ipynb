{
 "cells": [
  {
   "cell_type": "markdown",
   "id": "8b343153",
   "metadata": {},
   "source": [
    "# PYTHON EDA PROJECT ON SUICIDE CASES IN INDIA "
   ]
  },
  {
   "cell_type": "code",
   "execution_count": 1,
   "id": "c82b6353",
   "metadata": {},
   "outputs": [],
   "source": [
    "#import libraries\n",
    "\n",
    "import numpy as np\n",
    "import pandas as pd\n",
    "import matplotlib.pyplot as plt\n",
    "%matplotlib inline\n",
    "import seaborn as sns\n",
    "plt.rcParams['figure.figsize']=(20,8)"
   ]
  },
  {
   "cell_type": "code",
   "execution_count": 2,
   "id": "05c0722b",
   "metadata": {},
   "outputs": [],
   "source": [
    "#importing the database\n",
    "df=pd.read_csv(r'Suicides in India 2001-2012.csv')"
   ]
  },
  {
   "cell_type": "code",
   "execution_count": 3,
   "id": "9eed942a",
   "metadata": {},
   "outputs": [
    {
     "data": {
      "text/html": [
       "<div>\n",
       "<style scoped>\n",
       "    .dataframe tbody tr th:only-of-type {\n",
       "        vertical-align: middle;\n",
       "    }\n",
       "\n",
       "    .dataframe tbody tr th {\n",
       "        vertical-align: top;\n",
       "    }\n",
       "\n",
       "    .dataframe thead th {\n",
       "        text-align: right;\n",
       "    }\n",
       "</style>\n",
       "<table border=\"1\" class=\"dataframe\">\n",
       "  <thead>\n",
       "    <tr style=\"text-align: right;\">\n",
       "      <th></th>\n",
       "      <th>State</th>\n",
       "      <th>Year</th>\n",
       "      <th>Type_code</th>\n",
       "      <th>Type</th>\n",
       "      <th>Gender</th>\n",
       "      <th>Age_group</th>\n",
       "      <th>Total</th>\n",
       "    </tr>\n",
       "  </thead>\n",
       "  <tbody>\n",
       "    <tr>\n",
       "      <th>0</th>\n",
       "      <td>A &amp; N Islands</td>\n",
       "      <td>2001</td>\n",
       "      <td>Causes</td>\n",
       "      <td>Illness (Aids/STD)</td>\n",
       "      <td>Female</td>\n",
       "      <td>0-14</td>\n",
       "      <td>0</td>\n",
       "    </tr>\n",
       "    <tr>\n",
       "      <th>1</th>\n",
       "      <td>A &amp; N Islands</td>\n",
       "      <td>2001</td>\n",
       "      <td>Causes</td>\n",
       "      <td>Bankruptcy or Sudden change in Economic</td>\n",
       "      <td>Female</td>\n",
       "      <td>0-14</td>\n",
       "      <td>0</td>\n",
       "    </tr>\n",
       "    <tr>\n",
       "      <th>2</th>\n",
       "      <td>A &amp; N Islands</td>\n",
       "      <td>2001</td>\n",
       "      <td>Causes</td>\n",
       "      <td>Cancellation/Non-Settlement of Marriage</td>\n",
       "      <td>Female</td>\n",
       "      <td>0-14</td>\n",
       "      <td>0</td>\n",
       "    </tr>\n",
       "    <tr>\n",
       "      <th>3</th>\n",
       "      <td>A &amp; N Islands</td>\n",
       "      <td>2001</td>\n",
       "      <td>Causes</td>\n",
       "      <td>Physical Abuse (Rape/Incest Etc.)</td>\n",
       "      <td>Female</td>\n",
       "      <td>0-14</td>\n",
       "      <td>0</td>\n",
       "    </tr>\n",
       "    <tr>\n",
       "      <th>4</th>\n",
       "      <td>A &amp; N Islands</td>\n",
       "      <td>2001</td>\n",
       "      <td>Causes</td>\n",
       "      <td>Dowry Dispute</td>\n",
       "      <td>Female</td>\n",
       "      <td>0-14</td>\n",
       "      <td>0</td>\n",
       "    </tr>\n",
       "  </tbody>\n",
       "</table>\n",
       "</div>"
      ],
      "text/plain": [
       "           State  Year Type_code                                     Type  \\\n",
       "0  A & N Islands  2001    Causes                       Illness (Aids/STD)   \n",
       "1  A & N Islands  2001    Causes  Bankruptcy or Sudden change in Economic   \n",
       "2  A & N Islands  2001    Causes  Cancellation/Non-Settlement of Marriage   \n",
       "3  A & N Islands  2001    Causes        Physical Abuse (Rape/Incest Etc.)   \n",
       "4  A & N Islands  2001    Causes                            Dowry Dispute   \n",
       "\n",
       "   Gender Age_group  Total  \n",
       "0  Female      0-14      0  \n",
       "1  Female      0-14      0  \n",
       "2  Female      0-14      0  \n",
       "3  Female      0-14      0  \n",
       "4  Female      0-14      0  "
      ]
     },
     "execution_count": 3,
     "metadata": {},
     "output_type": "execute_result"
    }
   ],
   "source": [
    "# Let's check first 5 rows of the dataframe\n",
    "df.head(5)"
   ]
  },
  {
   "cell_type": "code",
   "execution_count": 4,
   "id": "6a536edf",
   "metadata": {},
   "outputs": [
    {
     "data": {
      "text/plain": [
       "(237519, 7)"
      ]
     },
     "execution_count": 4,
     "metadata": {},
     "output_type": "execute_result"
    }
   ],
   "source": [
    "# Let's check the shape of the dataframe\n",
    "df.shape"
   ]
  },
  {
   "cell_type": "code",
   "execution_count": 5,
   "id": "e2b86997",
   "metadata": {},
   "outputs": [
    {
     "data": {
      "text/plain": [
       "State        0.0\n",
       "Year         0.0\n",
       "Type_code    0.0\n",
       "Type         0.0\n",
       "Gender       0.0\n",
       "Age_group    0.0\n",
       "Total        0.0\n",
       "dtype: float64"
      ]
     },
     "execution_count": 5,
     "metadata": {},
     "output_type": "execute_result"
    }
   ],
   "source": [
    "# Let's check the percentage of null values\n",
    "df.isnull().mean()*100"
   ]
  },
  {
   "cell_type": "code",
   "execution_count": 6,
   "id": "fb2df0c2",
   "metadata": {},
   "outputs": [
    {
     "name": "stdout",
     "output_type": "stream",
     "text": [
      "<class 'pandas.core.frame.DataFrame'>\n",
      "RangeIndex: 237519 entries, 0 to 237518\n",
      "Data columns (total 7 columns):\n",
      " #   Column     Non-Null Count   Dtype \n",
      "---  ------     --------------   ----- \n",
      " 0   State      237519 non-null  object\n",
      " 1   Year       237519 non-null  int64 \n",
      " 2   Type_code  237519 non-null  object\n",
      " 3   Type       237519 non-null  object\n",
      " 4   Gender     237519 non-null  object\n",
      " 5   Age_group  237519 non-null  object\n",
      " 6   Total      237519 non-null  int64 \n",
      "dtypes: int64(2), object(5)\n",
      "memory usage: 12.7+ MB\n"
     ]
    }
   ],
   "source": [
    "# Let's check the data type of all the features in the dataframe\n",
    "df.info()"
   ]
  },
  {
   "cell_type": "code",
   "execution_count": 7,
   "id": "55b49412",
   "metadata": {},
   "outputs": [
    {
     "name": "stdout",
     "output_type": "stream",
     "text": [
      "<class 'pandas.core.frame.DataFrame'>\n",
      "RangeIndex: 237519 entries, 0 to 237518\n",
      "Data columns (total 7 columns):\n",
      " #   Column     Non-Null Count   Dtype \n",
      "---  ------     --------------   ----- \n",
      " 0   State      237519 non-null  object\n",
      " 1   Year       237519 non-null  int32 \n",
      " 2   Type_code  237519 non-null  object\n",
      " 3   Type       237519 non-null  object\n",
      " 4   Gender     237519 non-null  object\n",
      " 5   Age_group  237519 non-null  object\n",
      " 6   Total      237519 non-null  int32 \n",
      "dtypes: int32(2), object(5)\n",
      "memory usage: 10.9+ MB\n"
     ]
    }
   ],
   "source": [
    "# Optimizing the memory\n",
    "df[['Year','Total']] = df[['Year','Total']].astype(np.int32)\n",
    "df.info()"
   ]
  },
  {
   "cell_type": "markdown",
   "id": "237bbffb",
   "metadata": {},
   "source": [
    "- Before total memory : 12.7mb\n",
    "- After using appropriate datatypes : 10.9mb"
   ]
  },
  {
   "cell_type": "code",
   "execution_count": 8,
   "id": "a2ca4de9",
   "metadata": {},
   "outputs": [
    {
     "data": {
      "text/html": [
       "<div>\n",
       "<style scoped>\n",
       "    .dataframe tbody tr th:only-of-type {\n",
       "        vertical-align: middle;\n",
       "    }\n",
       "\n",
       "    .dataframe tbody tr th {\n",
       "        vertical-align: top;\n",
       "    }\n",
       "\n",
       "    .dataframe thead th {\n",
       "        text-align: right;\n",
       "    }\n",
       "</style>\n",
       "<table border=\"1\" class=\"dataframe\">\n",
       "  <thead>\n",
       "    <tr style=\"text-align: right;\">\n",
       "      <th></th>\n",
       "      <th>Year</th>\n",
       "      <th>Total</th>\n",
       "    </tr>\n",
       "  </thead>\n",
       "  <tbody>\n",
       "    <tr>\n",
       "      <th>count</th>\n",
       "      <td>237519.000000</td>\n",
       "      <td>237519.000000</td>\n",
       "    </tr>\n",
       "    <tr>\n",
       "      <th>mean</th>\n",
       "      <td>2006.500448</td>\n",
       "      <td>55.034477</td>\n",
       "    </tr>\n",
       "    <tr>\n",
       "      <th>std</th>\n",
       "      <td>3.452240</td>\n",
       "      <td>792.749038</td>\n",
       "    </tr>\n",
       "    <tr>\n",
       "      <th>min</th>\n",
       "      <td>2001.000000</td>\n",
       "      <td>0.000000</td>\n",
       "    </tr>\n",
       "    <tr>\n",
       "      <th>25%</th>\n",
       "      <td>2004.000000</td>\n",
       "      <td>0.000000</td>\n",
       "    </tr>\n",
       "    <tr>\n",
       "      <th>50%</th>\n",
       "      <td>2007.000000</td>\n",
       "      <td>0.000000</td>\n",
       "    </tr>\n",
       "    <tr>\n",
       "      <th>75%</th>\n",
       "      <td>2010.000000</td>\n",
       "      <td>6.000000</td>\n",
       "    </tr>\n",
       "    <tr>\n",
       "      <th>max</th>\n",
       "      <td>2012.000000</td>\n",
       "      <td>63343.000000</td>\n",
       "    </tr>\n",
       "  </tbody>\n",
       "</table>\n",
       "</div>"
      ],
      "text/plain": [
       "                Year          Total\n",
       "count  237519.000000  237519.000000\n",
       "mean     2006.500448      55.034477\n",
       "std         3.452240     792.749038\n",
       "min      2001.000000       0.000000\n",
       "25%      2004.000000       0.000000\n",
       "50%      2007.000000       0.000000\n",
       "75%      2010.000000       6.000000\n",
       "max      2012.000000   63343.000000"
      ]
     },
     "execution_count": 8,
     "metadata": {},
     "output_type": "execute_result"
    }
   ],
   "source": [
    "# Let's get descriptive statistical information about the features \n",
    "df.describe()"
   ]
  },
  {
   "cell_type": "code",
   "execution_count": 11,
   "id": "26a31429",
   "metadata": {},
   "outputs": [
    {
     "data": {
      "text/plain": [
       "0       135481\n",
       "1        16047\n",
       "2         9942\n",
       "3         6704\n",
       "4         5121\n",
       "         ...  \n",
       "1392         1\n",
       "3176         1\n",
       "7634         1\n",
       "1063         1\n",
       "5451         1\n",
       "Name: Total, Length: 2180, dtype: int64"
      ]
     },
     "execution_count": 11,
     "metadata": {},
     "output_type": "execute_result"
    }
   ],
   "source": [
    "# df['Total'].value_counts()"
   ]
  },
  {
   "cell_type": "code",
   "execution_count": 9,
   "id": "1d0318b0",
   "metadata": {},
   "outputs": [
    {
     "data": {
      "text/plain": [
       "array(['Illness (Aids/STD)', 'Bankruptcy or Sudden change in Economic',\n",
       "       'Cancellation/Non-Settlement of Marriage',\n",
       "       'Physical Abuse (Rape/Incest Etc.)', 'Dowry Dispute',\n",
       "       'Family Problems', 'Ideological Causes/Hero Worshipping',\n",
       "       'Other Prolonged Illness', 'Property Dispute',\n",
       "       'Fall in Social Reputation', 'Illegitimate Pregnancy',\n",
       "       'Failure in Examination', 'Insanity/Mental Illness',\n",
       "       'Love Affairs', 'Professional/Career Problem', 'Divorce',\n",
       "       'Drug Abuse/Addiction', 'Not having Children(Barrenness/Impotency',\n",
       "       'Causes Not known', 'Unemployment',\n",
       "       'Other Causes (Please Specity)', 'Poverty', 'Death of Dear Person',\n",
       "       'Cancer', 'Suspected/Illicit Relation', 'Paralysis', 'Diploma',\n",
       "       'No Education', 'Post Graduate and Above', 'Middle', 'Graduate',\n",
       "       'Hr. Secondary/Intermediate/Pre-Universit', 'Primary',\n",
       "       'Matriculate/Secondary', 'By Consuming Insecticides', 'By Hanging',\n",
       "       'By Jumping from (Other sites)', 'By touching electric wires',\n",
       "       'By Machine', 'By Fire/Self Immolation',\n",
       "       'By Jumping off Moving Vehicles/Trains',\n",
       "       'By Other means (please specify)', 'By Self Infliction of injury',\n",
       "       'By Over Alcoholism', 'By Consuming Other Poison',\n",
       "       'By coming under running vehicles/trains',\n",
       "       'By Overdose of sleeping pills', 'By Jumping from (Building)',\n",
       "       'By Drowning', 'By Fire-Arms', 'Retired Person', 'Unemployed',\n",
       "       'Public Sector Undertaking', 'Service (Private)', 'House Wife',\n",
       "       'Self-employed (Business activity)', 'Professional Activity',\n",
       "       'Student', 'Others (Please Specify)',\n",
       "       'Farming/Agriculture Activity', 'Service (Government)', 'Married',\n",
       "       'Seperated', 'Widowed/Widower', 'Divorcee', 'Never Married',\n",
       "       'Bankruptcy or Sudden change in Economic Status',\n",
       "       'Not having Children (Barrenness/Impotency', 'By Other means'],\n",
       "      dtype=object)"
      ]
     },
     "execution_count": 9,
     "metadata": {},
     "output_type": "execute_result"
    }
   ],
   "source": [
    "# Let's check total number of unique types of suicides\n",
    "df['Type'].unique()"
   ]
  },
  {
   "cell_type": "code",
   "execution_count": 10,
   "id": "2aed8a00",
   "metadata": {},
   "outputs": [
    {
     "data": {
      "text/html": [
       "<div>\n",
       "<style scoped>\n",
       "    .dataframe tbody tr th:only-of-type {\n",
       "        vertical-align: middle;\n",
       "    }\n",
       "\n",
       "    .dataframe tbody tr th {\n",
       "        vertical-align: top;\n",
       "    }\n",
       "\n",
       "    .dataframe thead th {\n",
       "        text-align: right;\n",
       "    }\n",
       "</style>\n",
       "<table border=\"1\" class=\"dataframe\">\n",
       "  <thead>\n",
       "    <tr style=\"text-align: right;\">\n",
       "      <th></th>\n",
       "      <th>Total</th>\n",
       "    </tr>\n",
       "    <tr>\n",
       "      <th>Year</th>\n",
       "      <th></th>\n",
       "    </tr>\n",
       "  </thead>\n",
       "  <tbody>\n",
       "    <tr>\n",
       "      <th>2001</th>\n",
       "      <td>976464</td>\n",
       "    </tr>\n",
       "    <tr>\n",
       "      <th>2002</th>\n",
       "      <td>993648</td>\n",
       "    </tr>\n",
       "    <tr>\n",
       "      <th>2003</th>\n",
       "      <td>997622</td>\n",
       "    </tr>\n",
       "    <tr>\n",
       "      <th>2004</th>\n",
       "      <td>1023137</td>\n",
       "    </tr>\n",
       "    <tr>\n",
       "      <th>2005</th>\n",
       "      <td>1025201</td>\n",
       "    </tr>\n",
       "    <tr>\n",
       "      <th>2006</th>\n",
       "      <td>1062991</td>\n",
       "    </tr>\n",
       "    <tr>\n",
       "      <th>2007</th>\n",
       "      <td>1103667</td>\n",
       "    </tr>\n",
       "    <tr>\n",
       "      <th>2008</th>\n",
       "      <td>1125082</td>\n",
       "    </tr>\n",
       "    <tr>\n",
       "      <th>2009</th>\n",
       "      <td>1144033</td>\n",
       "    </tr>\n",
       "    <tr>\n",
       "      <th>2010</th>\n",
       "      <td>1211322</td>\n",
       "    </tr>\n",
       "    <tr>\n",
       "      <th>2011</th>\n",
       "      <td>1219499</td>\n",
       "    </tr>\n",
       "    <tr>\n",
       "      <th>2012</th>\n",
       "      <td>1189068</td>\n",
       "    </tr>\n",
       "  </tbody>\n",
       "</table>\n",
       "</div>"
      ],
      "text/plain": [
       "        Total\n",
       "Year         \n",
       "2001   976464\n",
       "2002   993648\n",
       "2003   997622\n",
       "2004  1023137\n",
       "2005  1025201\n",
       "2006  1062991\n",
       "2007  1103667\n",
       "2008  1125082\n",
       "2009  1144033\n",
       "2010  1211322\n",
       "2011  1219499\n",
       "2012  1189068"
      ]
     },
     "execution_count": 10,
     "metadata": {},
     "output_type": "execute_result"
    }
   ],
   "source": [
    "df.groupby('Year')['Total'].sum().to_frame()"
   ]
  },
  {
   "cell_type": "code",
   "execution_count": 15,
   "id": "19af0837",
   "metadata": {},
   "outputs": [
    {
     "data": {
      "text/plain": [
       "Year\n",
       "2001     976464\n",
       "2002     993648\n",
       "2003     997622\n",
       "2004    1023137\n",
       "2005    1025201\n",
       "2006    1062991\n",
       "2007    1103667\n",
       "2008    1125082\n",
       "2009    1144033\n",
       "2010    1211322\n",
       "2011    1219499\n",
       "2012    1189068\n",
       "Name: Total, dtype: int32"
      ]
     },
     "execution_count": 15,
     "metadata": {},
     "output_type": "execute_result"
    }
   ],
   "source": [
    "# Performing group by operations to see total number of suicides per year\n",
    "Suicide_per_year = df.groupby('Year')['Total'].sum()\n",
    "Suicide_per_year"
   ]
  },
  {
   "cell_type": "code",
   "execution_count": 17,
   "id": "e6c7ee56",
   "metadata": {
    "scrolled": false
   },
   "outputs": [
    {
     "data": {
      "text/plain": [
       "[Text(0.5, 1.0, 'TOTAL SUICIDES PER YEAR')]"
      ]
     },
     "execution_count": 17,
     "metadata": {},
     "output_type": "execute_result"
    },
    {
     "data": {
      "image/png": "[encoded data removed]",
      "text/plain": [
       "<Figure size 1440x576 with 1 Axes>"
      ]
     },
     "metadata": {
      "needs_background": "light"
     },
     "output_type": "display_data"
    }
   ],
   "source": [
    "# Let's visualize both the variables using a barplot\n",
    "sns.barplot(x=Suicide_per_year.index, y=Suicide_per_year, data =df).set(title= \"TOTAL SUICIDES PER YEAR\")"
   ]
  },
  {
   "cell_type": "markdown",
   "id": "43d34633",
   "metadata": {},
   "source": [
    "### Note 🛎️\n",
    "1e6 is a scientific notation used to represent a number in the form 10^6. This number is often used to represent a large scale factor for the y-axis in bar plots. For example, if a value of 1.2 is present on the y-axis, and 1e6 is present at the top of the axis, this indicates that all values on the y-axis should be multiplied by 1 million = (1.2)(1000000) = 1200000"
   ]
  },
  {
   "cell_type": "code",
   "execution_count": 21,
   "id": "ee475022",
   "metadata": {},
   "outputs": [
    {
     "data": {
      "text/plain": [
       "[Text(0.5, 1.0, 'TOTAL SUICIDES DUE TO UNEMPLOYMENT PER YEAR')]"
      ]
     },
     "execution_count": 21,
     "metadata": {},
     "output_type": "execute_result"
    },
    {
     "data": {
      "image/png": "[encoded data removed]",
      "text/plain": [
       "<Figure size 1440x576 with 1 Axes>"
      ]
     },
     "metadata": {
      "needs_background": "light"
     },
     "output_type": "display_data"
    }
   ],
   "source": [
    "# Now let's see total suicides due to unemployment\n",
    "Suicide_unemploy = df[df['Type']=='Unemployment'].groupby('Year')['Total'].sum().sort_values(ascending=False)\n",
    "sns.barplot(x=Suicide_unemploy.index, y=Suicide_unemploy).set(title= \"TOTAL SUICIDES DUE TO UNEMPLOYMENT PER YEAR\")"
   ]
  },
  {
   "cell_type": "code",
   "execution_count": 22,
   "id": "af311d47",
   "metadata": {
    "scrolled": true
   },
   "outputs": [
    {
     "data": {
      "text/plain": [
       "Type\n",
       "Married                                           3065322\n",
       "Primary                                           1088481\n",
       "Middle                                            1028913\n",
       "No Education                                       965271\n",
       "Never Married                                      954903\n",
       "                                                   ...   \n",
       "Bankruptcy or Sudden change in Economic Status       2655\n",
       "Illegitimate Pregnancy                               2494\n",
       "Ideological Causes/Hero Worshipping                  2118\n",
       "By Machine                                           1661\n",
       "Not having Children (Barrenness/Impotency             766\n",
       "Name: Total, Length: 69, dtype: int32"
      ]
     },
     "execution_count": 22,
     "metadata": {},
     "output_type": "execute_result"
    }
   ],
   "source": [
    "#suicide causes\n",
    "Suicide_causes = df.groupby('Type')['Total'].sum().sort_values(ascending=False)\n",
    "Suicide_causes"
   ]
  },
  {
   "cell_type": "code",
   "execution_count": 25,
   "id": "381b2bdd",
   "metadata": {},
   "outputs": [
    {
     "data": {
      "text/plain": [
       "<AxesSubplot:xlabel='Type', ylabel='Total'>"
      ]
     },
     "execution_count": 25,
     "metadata": {},
     "output_type": "execute_result"
    },
    {
     "data": {
      "image/png": "[encoded data removed]",
      "text/plain": [
       "<Figure size 1440x576 with 1 Axes>"
      ]
     },
     "metadata": {
      "needs_background": "light"
     },
     "output_type": "display_data"
    }
   ],
   "source": [
    "# Now let's visualize top 10 causes of suicides\n",
    "sns.barplot(x=Suicide_causes.index[:10], y=Suicide_causes[:10]).set(title= \"TOP 10 CAUSES OF SUICIDES\")"
   ]
  },
  {
   "cell_type": "code",
   "execution_count": 44,
   "id": "ae423d2a",
   "metadata": {},
   "outputs": [
    {
     "data": {
      "text/plain": [
       "Male      118879\n",
       "Female    118640\n",
       "Name: Gender, dtype: int64"
      ]
     },
     "execution_count": 44,
     "metadata": {},
     "output_type": "execute_result"
    }
   ],
   "source": [
    "# Let's see how much gender plays role\n",
    "df['Gender'].value_counts()"
   ]
  },
  {
   "cell_type": "code",
   "execution_count": 45,
   "id": "617a1426",
   "metadata": {},
   "outputs": [
    {
     "data": {
      "text/plain": [
       "([<matplotlib.patches.Wedge at 0x1fa106befb0>,\n",
       "  <matplotlib.patches.Wedge at 0x1fa106bf610>],\n",
       " [Text(-0.0017386668802414063, 1.099998625925269, 'Males'),\n",
       "  Text(0.0017386668802412718, -1.099998625925269, 'Females')],\n",
       " [Text(-0.0009483637528589488, 0.599999250504692, '50%'),\n",
       "  Text(0.0009483637528588754, -0.599999250504692, '50%')])"
      ]
     },
     "execution_count": 45,
     "metadata": {},
     "output_type": "execute_result"
    },
    {
     "data": {
      "image/png": "[encoded data removed]",
      "text/plain": [
       "<Figure size 1440x576 with 1 Axes>"
      ]
     },
     "metadata": {},
     "output_type": "display_data"
    }
   ],
   "source": [
    "# Let's visualize the distribution of value counts using the bar plot\n",
    "plt.pie(df['Gender'].value_counts(),labels=['Males','Females'],autopct='%1.0f%%')"
   ]
  },
  {
   "cell_type": "code",
   "execution_count": 42,
   "id": "bb557d70",
   "metadata": {},
   "outputs": [
    {
     "data": {
      "text/plain": [
       "State\n",
       "Total (All India)    2911862\n",
       "Total (States)       2858026\n",
       "Maharashtra           901945\n",
       "West Bengal           849936\n",
       "Tamil Nadu            818691\n",
       "Andhra Pradesh        814059\n",
       "Karnataka             734825\n",
       "Kerala                538946\n",
       "Madhya Pradesh        451535\n",
       "Gujarat               330858\n",
       "Name: Total, dtype: int32"
      ]
     },
     "execution_count": 42,
     "metadata": {},
     "output_type": "execute_result"
    }
   ],
   "source": [
    "# States with maximum suicide count\n",
    "Suicide_regions = df.groupby('State')['Total'].sum()\n",
    "Suicide_regions = Suicide_regions.sort_values(ascending=False)\n",
    "Suicide_regions[:10]"
   ]
  },
  {
   "cell_type": "code",
   "execution_count": 43,
   "id": "14b701a0",
   "metadata": {},
   "outputs": [
    {
     "data": {
      "text/plain": [
       "[Text(0.5, 1.0, 'REGIONS WITH MOST SUICIDES')]"
      ]
     },
     "execution_count": 43,
     "metadata": {},
     "output_type": "execute_result"
    },
    {
     "data": {
      "image/png": "[encoded data removed]",
      "text/plain": [
       "<Figure size 1440x576 with 1 Axes>"
      ]
     },
     "metadata": {
      "needs_background": "light"
     },
     "output_type": "display_data"
    }
   ],
   "source": [
    "sns.barplot(x=Suicide_regions[2:12].index, y=Suicide_regions[2:12]).set(title= \"REGIONS WITH MOST SUICIDES\")"
   ]
  },
  {
   "cell_type": "code",
   "execution_count": 52,
   "id": "bc2ad78e",
   "metadata": {},
   "outputs": [
    {
     "data": {
      "text/plain": [
       "Age_group\n",
       "0-100+    8735586\n",
       "15-29     1534037\n",
       "30-44     1471599\n",
       "45-59      885177\n",
       "60+        346925\n",
       "0-14        98410\n",
       "Name: Total, dtype: int32"
      ]
     },
     "execution_count": 52,
     "metadata": {},
     "output_type": "execute_result"
    }
   ],
   "source": [
    "# Let's see which age group have maximum suicides\n",
    "Suicide_age_grp = df.groupby('Age_group')['Total'].sum()\n",
    "Suicide_age_grp = Suicide_age_grp.sort_values(ascending=False)\n",
    "Suicide_age_grp"
   ]
  },
  {
   "cell_type": "code",
   "execution_count": 55,
   "id": "b9763389",
   "metadata": {},
   "outputs": [
    {
     "data": {
      "text/plain": [
       "[Text(0.5, 1.0, 'SUICIDES VS AGE GROUPS')]"
      ]
     },
     "execution_count": 55,
     "metadata": {},
     "output_type": "execute_result"
    },
    {
     "data": {
      "image/png": "[encoded data removed]",
      "text/plain": [
       "<Figure size 1440x576 with 1 Axes>"
      ]
     },
     "metadata": {
      "needs_background": "light"
     },
     "output_type": "display_data"
    }
   ],
   "source": [
    "sns.barplot(x=Suicide_age_grp[1:].index,y=Suicide_age_grp[1:]).set(title= \"SUICIDES VS AGE GROUPS\")"
   ]
  },
  {
   "cell_type": "code",
   "execution_count": 63,
   "id": "c8555640",
   "metadata": {
    "scrolled": true
   },
   "outputs": [
    {
     "data": {
      "text/html": [
       "<div>\n",
       "<style scoped>\n",
       "    .dataframe tbody tr th:only-of-type {\n",
       "        vertical-align: middle;\n",
       "    }\n",
       "\n",
       "    .dataframe tbody tr th {\n",
       "        vertical-align: top;\n",
       "    }\n",
       "\n",
       "    .dataframe thead th {\n",
       "        text-align: right;\n",
       "    }\n",
       "</style>\n",
       "<table border=\"1\" class=\"dataframe\">\n",
       "  <thead>\n",
       "    <tr style=\"text-align: right;\">\n",
       "      <th></th>\n",
       "      <th>State</th>\n",
       "      <th>Year</th>\n",
       "      <th>Type_code</th>\n",
       "      <th>Type</th>\n",
       "      <th>Gender</th>\n",
       "      <th>Age_group</th>\n",
       "      <th>Total</th>\n",
       "    </tr>\n",
       "  </thead>\n",
       "  <tbody>\n",
       "    <tr>\n",
       "      <th>0</th>\n",
       "      <td>A &amp; N Islands</td>\n",
       "      <td>2001</td>\n",
       "      <td>Causes</td>\n",
       "      <td>Illness (Aids/STD)</td>\n",
       "      <td>Female</td>\n",
       "      <td>0-14</td>\n",
       "      <td>0</td>\n",
       "    </tr>\n",
       "    <tr>\n",
       "      <th>1</th>\n",
       "      <td>A &amp; N Islands</td>\n",
       "      <td>2001</td>\n",
       "      <td>Causes</td>\n",
       "      <td>Bankruptcy or Sudden change in Economic</td>\n",
       "      <td>Female</td>\n",
       "      <td>0-14</td>\n",
       "      <td>0</td>\n",
       "    </tr>\n",
       "    <tr>\n",
       "      <th>2</th>\n",
       "      <td>A &amp; N Islands</td>\n",
       "      <td>2001</td>\n",
       "      <td>Causes</td>\n",
       "      <td>Cancellation/Non-Settlement of Marriage</td>\n",
       "      <td>Female</td>\n",
       "      <td>0-14</td>\n",
       "      <td>0</td>\n",
       "    </tr>\n",
       "    <tr>\n",
       "      <th>3</th>\n",
       "      <td>A &amp; N Islands</td>\n",
       "      <td>2001</td>\n",
       "      <td>Causes</td>\n",
       "      <td>Physical Abuse (Rape/Incest Etc.)</td>\n",
       "      <td>Female</td>\n",
       "      <td>0-14</td>\n",
       "      <td>0</td>\n",
       "    </tr>\n",
       "    <tr>\n",
       "      <th>4</th>\n",
       "      <td>A &amp; N Islands</td>\n",
       "      <td>2001</td>\n",
       "      <td>Causes</td>\n",
       "      <td>Dowry Dispute</td>\n",
       "      <td>Female</td>\n",
       "      <td>0-14</td>\n",
       "      <td>0</td>\n",
       "    </tr>\n",
       "  </tbody>\n",
       "</table>\n",
       "</div>"
      ],
      "text/plain": [
       "           State  Year Type_code                                     Type  \\\n",
       "0  A & N Islands  2001    Causes                       Illness (Aids/STD)   \n",
       "1  A & N Islands  2001    Causes  Bankruptcy or Sudden change in Economic   \n",
       "2  A & N Islands  2001    Causes  Cancellation/Non-Settlement of Marriage   \n",
       "3  A & N Islands  2001    Causes        Physical Abuse (Rape/Incest Etc.)   \n",
       "4  A & N Islands  2001    Causes                            Dowry Dispute   \n",
       "\n",
       "   Gender Age_group  Total  \n",
       "0  Female      0-14      0  \n",
       "1  Female      0-14      0  \n",
       "2  Female      0-14      0  \n",
       "3  Female      0-14      0  \n",
       "4  Female      0-14      0  "
      ]
     },
     "execution_count": 63,
     "metadata": {},
     "output_type": "execute_result"
    }
   ],
   "source": [
    "df.head()"
   ]
  },
  {
   "cell_type": "code",
   "execution_count": 64,
   "id": "b2af51d9",
   "metadata": {},
   "outputs": [
    {
     "data": {
      "text/plain": [
       "Type\n",
       "By Hanging                                        176914\n",
       "Others (Please Specify)                           155539\n",
       "House Wife                                        127984\n",
       "Family Problems                                   125681\n",
       "By Consuming Insecticides                         104929\n",
       "Causes Not known                                   90839\n",
       "By Consuming Other Poison                          85190\n",
       "Other Causes (Please Specity)                      81003\n",
       "Student                                            70838\n",
       "By Fire/Self Immolation                            57408\n",
       "Farming/Agriculture Activity                       53741\n",
       "Other Prolonged Illness                            52458\n",
       "Unemployed                                         47123\n",
       "By Other means (please specify)                    44724\n",
       "Service (Private)                                  39512\n",
       "By Drowning                                        37282\n",
       "Love Affairs                                       34273\n",
       "Insanity/Mental Illness                            28482\n",
       "Failure in Examination                             25592\n",
       "Dowry Dispute                                      23211\n",
       "Self-employed (Business activity)                  20544\n",
       "By coming under running vehicles/trains            14395\n",
       "Unemployment                                       12505\n",
       "Professional Activity                              11230\n",
       "Public Sector Undertaking                           9528\n",
       "Poverty                                             8450\n",
       "Suspected/Illicit Relation                          7756\n",
       "Cancellation/Non-Settlement of Marriage             7752\n",
       "Drug Abuse/Addiction                                7492\n",
       "Service (Government)                                5926\n",
       "Bankruptcy or Sudden change in Economic             5903\n",
       "Fall in Social Reputation                           4888\n",
       "Property Dispute                                    4399\n",
       "By touching electric wires                          4127\n",
       "Death of Dear Person                                3687\n",
       "Professional/Career Problem                         3510\n",
       "By Other means                                      3263\n",
       "By Over Alcoholism                                  3050\n",
       "By Overdose of sleeping pills                       2989\n",
       "By Jumping from (Other sites)                       2957\n",
       "Not having Children(Barrenness/Impotency            2828\n",
       "By Jumping off Moving Vehicles/Trains               2791\n",
       "By Jumping from (Building)                          2702\n",
       "By Fire-Arms                                        2533\n",
       "Illness (Aids/STD)                                  2519\n",
       "Physical Abuse (Rape/Incest Etc.)                   2185\n",
       "By Self Infliction of injury                        1847\n",
       "Illegitimate Pregnancy                              1769\n",
       "Divorce                                             1557\n",
       "Paralysis                                           1121\n",
       "Cancer                                               956\n",
       "Ideological Causes/Hero Worshipping                  859\n",
       "By Machine                                           626\n",
       "Bankruptcy or Sudden change in Economic Status       486\n",
       "Not having Children (Barrenness/Impotency            300\n",
       "Retired Person                                       294\n",
       "Name: Total, dtype: int64"
      ]
     },
     "execution_count": 64,
     "metadata": {},
     "output_type": "execute_result"
    }
   ],
   "source": [
    "# Now let's see that type of suicides by 2 most suicide count age groups\n",
    "Youth_df = df[(df['Age_group'] == '0-14') | (df[\"Age_group\"] == '15-29')].copy()\n",
    "Youth_df = Youth_df.groupby('Type')['Total'].sum().sort_values(ascending=False)\n",
    "Youth_df[:10]"
   ]
  },
  {
   "cell_type": "code",
   "execution_count": 62,
   "id": "2bc7e5f7",
   "metadata": {},
   "outputs": [
    {
     "data": {
      "text/plain": [
       "(array([0, 1, 2, 3, 4, 5, 6, 7, 8, 9]),\n",
       " [Text(0, 0, 'By Hanging'),\n",
       "  Text(1, 0, 'Others (Please Specify)'),\n",
       "  Text(2, 0, 'House Wife'),\n",
       "  Text(3, 0, 'Family Problems'),\n",
       "  Text(4, 0, 'By Consuming Insecticides'),\n",
       "  Text(5, 0, 'Causes Not known'),\n",
       "  Text(6, 0, 'By Consuming Other Poison'),\n",
       "  Text(7, 0, 'Other Causes (Please Specity)'),\n",
       "  Text(8, 0, 'Student'),\n",
       "  Text(9, 0, 'By Fire/Self Immolation')])"
      ]
     },
     "execution_count": 62,
     "metadata": {},
     "output_type": "execute_result"
    },
    {
     "data": {
      "image/png": "[encoded data removed]",
      "text/plain": [
       "<Figure size 1440x576 with 1 Axes>"
      ]
     },
     "metadata": {
      "needs_background": "light"
     },
     "output_type": "display_data"
    }
   ],
   "source": [
    "sns.barplot(x = Youth_df.index[:10] , y =Youth_df[:10]).set(title='How youth commit suicide')\n",
    "plt.xticks(rotation=40)"
   ]
  },
  {
   "cell_type": "code",
   "execution_count": 64,
   "id": "d8727c15",
   "metadata": {},
   "outputs": [
    {
     "data": {
      "text/plain": [
       "Type\n",
       "Retired Person                                     294\n",
       "Not having Children (Barrenness/Impotency          300\n",
       "Bankruptcy or Sudden change in Economic Status     486\n",
       "By Machine                                         626\n",
       "Ideological Causes/Hero Worshipping                859\n",
       "Cancer                                             956\n",
       "Paralysis                                         1121\n",
       "Divorce                                           1557\n",
       "Illegitimate Pregnancy                            1769\n",
       "By Self Infliction of injury                      1847\n",
       "Name: Total, dtype: int32"
      ]
     },
     "execution_count": 64,
     "metadata": {},
     "output_type": "execute_result"
    }
   ],
   "source": [
    "#least suicide cases\n",
    "df[\"Age_group\"].unique()\n",
    "youthdf=df[(df[\"Age_group\"]==\"0-14\") | (df[\"Age_group\"]==\"15-29\") ]\n",
    "yg=youthdf.groupby('Type')['Total'].sum().sort_values(ascending=True)\n",
    "yg[0:10]"
   ]
  },
  {
   "cell_type": "code",
   "execution_count": 65,
   "id": "443e098d",
   "metadata": {},
   "outputs": [
    {
     "data": {
      "text/plain": [
       "(array([0, 1, 2, 3, 4, 5, 6, 7, 8]),\n",
       " [Text(0, 0, 'Retired Person'),\n",
       "  Text(1, 0, 'Not having Children (Barrenness/Impotency'),\n",
       "  Text(2, 0, 'Bankruptcy or Sudden change in Economic Status'),\n",
       "  Text(3, 0, 'By Machine'),\n",
       "  Text(4, 0, 'Ideological Causes/Hero Worshipping'),\n",
       "  Text(5, 0, 'Cancer'),\n",
       "  Text(6, 0, 'Paralysis'),\n",
       "  Text(7, 0, 'Divorce'),\n",
       "  Text(8, 0, 'Illegitimate Pregnancy')])"
      ]
     },
     "execution_count": 65,
     "metadata": {},
     "output_type": "execute_result"
    },
    {
     "data": {
      "image/png": "[encoded data removed]",
      "text/plain": [
       "<Figure size 1440x576 with 1 Axes>"
      ]
     },
     "metadata": {
      "needs_background": "light"
     },
     "output_type": "display_data"
    }
   ],
   "source": [
    "sns.barplot(x=yg.index[:9],y=yg[:9])\n",
    "plt.xticks(rotation=40)"
   ]
  }
 ],
 "metadata": {
  "kernelspec": {
   "display_name": "Python 3 (ipykernel)",
   "language": "python",
   "name": "python3"
  },
  "language_info": {
   "codemirror_mode": {
    "name": "ipython",
    "version": 3
   },
   "file_extension": ".py",
   "mimetype": "text/x-python",
   "name": "python",
   "nbconvert_exporter": "python",
   "pygments_lexer": "ipython3",
   "version": "3.10.8"
  }
 },
 "nbformat": 4,
 "nbformat_minor": 5
}
